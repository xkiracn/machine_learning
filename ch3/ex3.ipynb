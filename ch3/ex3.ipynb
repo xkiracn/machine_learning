{
 "cells": [
  {
   "cell_type": "code",
   "execution_count": 11,
   "metadata": {},
   "outputs": [],
   "source": [
    "from sklearn.multiclass import OneVsOneClassifier\n",
    "from sklearn.multiclass import OneVsRestClassifier\n",
    "from sklearn.linear_model import LogisticRegression\n",
    "from sklearn.linear_model import SGDClassifier\n",
    "from sklearn.discriminant_analysis import LinearDiscriminantAnalysis as LDA\n",
    "from sklearn.svm import SVC\n",
    "\n",
    "import warnings\n",
    "import pandas as pd\n",
    "import numpy as np\n",
    "\n",
    "train = np.matrix(pd.read_csv(\"dr_train.csv\"))\n",
    "x_test = np.matrix(pd.read_csv(\"dr_test.csv\"))\n",
    "x_train = train[:, 1:]\n",
    "y_train = train[:, 0].A1\n",
    "\n",
    "def output_csv(filename, y):\n",
    "    df_pred = pd.DataFrame({\"ImageId\": range(1, len(y) + 1), \"Label\": y}) \n",
    "    df_pred.to_csv(filename, index=False)"
   ]
  },
  {
   "cell_type": "code",
   "execution_count": 12,
   "metadata": {},
   "outputs": [
    {
     "name": "stdout",
     "output_type": "stream",
     "text": [
      "SGDC 0.914666666667\n",
      "OvO(LogRegression) 1.0\n",
      "OvR(LogRegression) 1.0\n",
      "OvO(LDA) 1.0\n",
      "OvR(LDA) 0.936\n",
      "SVC 1.0\n"
     ]
    }
   ],
   "source": [
    "models = [\n",
    "    (\"SGDC\", SGDClassifier()),\n",
    "    (\"OvO(LogRegression)\", OneVsOneClassifier(LogisticRegression())),\n",
    "    (\"OvR(LogRegression)\", OneVsRestClassifier(LogisticRegression())),\n",
    "    (\"OvO(LDA)\", OneVsOneClassifier(LDA())),\n",
    "    (\"OvR(LDA)\", OneVsRestClassifier(LDA())),\n",
    "    (\"SVC\", SVC(gamma=0.001, C=100))\n",
    "]\n",
    "\n",
    "with warnings.catch_warnings():\n",
    "    warnings.simplefilter(\"ignore\")\n",
    "    for title, m in models:\n",
    "        m.fit(x_train, y_train)\n",
    "        print(title, m.score(x_train, y_train))\n",
    "        y_test = m.predict(x_test)\n",
    "        output_csv(title+\".csv\", y_test)"
   ]
  },
  {
   "cell_type": "code",
   "execution_count": null,
   "metadata": {
    "collapsed": true
   },
   "outputs": [],
   "source": []
  }
 ],
 "metadata": {
  "kernelspec": {
   "display_name": "Python 3",
   "language": "python",
   "name": "python3"
  },
  "language_info": {
   "codemirror_mode": {
    "name": "ipython",
    "version": 3
   },
   "file_extension": ".py",
   "mimetype": "text/x-python",
   "name": "python",
   "nbconvert_exporter": "python",
   "pygments_lexer": "ipython3",
   "version": "3.6.0"
  }
 },
 "nbformat": 4,
 "nbformat_minor": 2
}
