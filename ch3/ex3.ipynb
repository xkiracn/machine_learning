{
 "cells": [
  {
   "cell_type": "code",
   "execution_count": 31,
   "metadata": {
    "collapsed": true
   },
   "outputs": [],
   "source": [
    "from sklearn.multiclass import OneVsOneClassifier\n",
    "from sklearn.multiclass import OneVsRestClassifier\n",
    "from sklearn.linear_model import LogisticRegression\n",
    "from sklearn.linear_model import SGDClassifier\n",
    "from sklearn.linear_model import Ridge\n",
    "from sklearn.linear_model import Lasso\n",
    "from sklearn.discriminant_analysis import LinearDiscriminantAnalysis as LDA\n",
    "from sklearn.svm import SVC\n",
    "\n",
    "import warnings\n",
    "import pandas as pd\n",
    "import numpy as np\n",
    "\n",
    "train = np.matrix(pd.read_csv(\"dr_train.csv\"))\n",
    "x_train = train[:, 1:]\n",
    "y_train = train[:, 0].A1\n",
    "\n",
    "x_test = np.matrix(pd.read_csv(\"dr_test.csv\"))\n",
    "\n",
    "def output_csv(filename, y):\n",
    "    df_pred = pd.DataFrame({\"ImageId\": range(1, len(y) + 1), \"Label\": y}) \n",
    "    df_pred.to_csv(filename, index=False)"
   ]
  },
  {
   "cell_type": "code",
   "execution_count": 2,
   "metadata": {},
   "outputs": [
    {
     "name": "stdout",
     "output_type": "stream",
     "text": [
      "SGDC 0.885095238095\n",
      "OvO(LogRegression) 0.989761904762\n",
      "OvR(LogRegression) 0.938571428571\n",
      "OvO(LDA) 0.941666666667\n",
      "OvR(LDA) 0.863428571429\n",
      "SVC 1.0\n"
     ]
    }
   ],
   "source": [
    "models = [\n",
    "    (\"SGDC\", SGDClassifier()),\n",
    "    (\"OvO(LogRegression)\", OneVsOneClassifier(LogisticRegression())),\n",
    "    (\"OvR(LogRegression)\", OneVsRestClassifier(LogisticRegression())),\n",
    "    (\"OvO(LDA)\", OneVsOneClassifier(LDA())),\n",
    "    (\"OvR(LDA)\", OneVsRestClassifier(LDA())),\n",
    "    (\"SVC\", SVC(gamma=0.001, C=100))\n",
    "]\n",
    "\n",
    "with warnings.catch_warnings():\n",
    "    warnings.simplefilter(\"ignore\")\n",
    "    for title, m in models:\n",
    "        m.fit(x_train, y_train)\n",
    "        print(title, m.score(x_train, y_train))\n",
    "        y_test = m.predict(x_test)\n",
    "        output_csv(title+\".csv\", y_test)"
   ]
  },
  {
   "cell_type": "code",
   "execution_count": 17,
   "metadata": {},
   "outputs": [
    {
     "name": "stdout",
     "output_type": "stream",
     "text": [
      "OvO(LDA) \ttraining score: 0.947879464286 validation score: 0.916369047619\n",
      "OvR(LDA) \ttraining score: 0.867113095238 validation score: 0.84568452381\n",
      "OvO(Lasso) \ttraining score: 0.307589285714 validation score: 0.319494047619\n"
     ]
    }
   ],
   "source": [
    "from sklearn.model_selection import train_test_split\n",
    "\n",
    "x_train, x_valid, y_train, y_valid = train_test_split(x_train, y_train, test_size=0.2, random_state=0)\n",
    "\n",
    "models = [\n",
    "    #(\"SGDC\", SGDClassifier()),\n",
    "    #(\"OvO(LogRegression)\", OneVsOneClassifier(LogisticRegression())),\n",
    "    #(\"OvR(LogRegression)\", OneVsRestClassifier(LogisticRegression())),\n",
    "    #(\"OvO(Ridge)\", OneVsOneClassifier(Ridge(alpha=1.0))),\n",
    "    #(\"OvR(Ridge)\", OneVsRestClassifier(Ridge(alpha=1.0))),\n",
    "    (\"OvO(LDA)\", OneVsOneClassifier(LDA())),\n",
    "    (\"OvR(LDA)\", OneVsRestClassifier(LDA())),\n",
    "    (\"OvO(Lasso)\", OneVsOneClassifier(Lasso(0.1))),\n",
    "    #(\"OvR(Lasso)\", OneVsRestClassifier(Lasso(0.1)))\n",
    "]\n",
    "\n",
    "with warnings.catch_warnings():\n",
    "    warnings.simplefilter(\"ignore\")\n",
    "    for title, m in models:\n",
    "        m.fit(x_train, y_train)\n",
    "        print(\n",
    "            title, \"\\ttraining score:\", m.score(x_train, y_train),\n",
    "            \"validation score:\", m.score(x_valid, y_valid))\n",
    "        y_test = m.predict(x_test)\n",
    "        output_csv(\"80_\"+title+\".csv\", y_test)"
   ]
  },
  {
   "cell_type": "code",
   "execution_count": 18,
   "metadata": {},
   "outputs": [
    {
     "name": "stdout",
     "output_type": "stream",
     "text": [
      "80_Ridge_0.0 training score: 0.860751488095 validation score: 0.839285714286\n",
      "80_Ridge_0.1 training score: 0.863876488095 validation score: 0.844345238095\n",
      "80_Ridge_0.2 training score: 0.863876488095 validation score: 0.844345238095\n",
      "80_Ridge_0.3 training score: 0.863876488095 validation score: 0.844345238095\n",
      "80_Ridge_0.4 training score: 0.863876488095 validation score: 0.844345238095\n",
      "80_Ridge_0.5 training score: 0.863876488095 validation score: 0.844345238095\n",
      "80_Ridge_0.6 training score: 0.863876488095 validation score: 0.844345238095\n",
      "80_Ridge_0.7 training score: 0.863876488095 validation score: 0.844345238095\n",
      "80_Ridge_0.8 training score: 0.863876488095 validation score: 0.844345238095\n",
      "80_Ridge_0.9 training score: 0.863876488095 validation score: 0.844345238095\n",
      "80_Ridge_1.0 training score: 0.863876488095 validation score: 0.844345238095\n",
      "80_Ridge_1.1 training score: 0.863876488095 validation score: 0.844345238095\n",
      "80_Ridge_1.2 training score: 0.863876488095 validation score: 0.844345238095\n",
      "80_Ridge_1.3 training score: 0.863876488095 validation score: 0.844345238095\n",
      "80_Ridge_1.4 training score: 0.863876488095 validation score: 0.844345238095\n",
      "80_Ridge_1.5 training score: 0.863876488095 validation score: 0.844345238095\n",
      "80_Ridge_1.6 training score: 0.863876488095 validation score: 0.844345238095\n",
      "80_Ridge_1.7 training score: 0.863876488095 validation score: 0.844345238095\n",
      "80_Ridge_1.8 training score: 0.863876488095 validation score: 0.844345238095\n",
      "80_Ridge_1.9 training score: 0.863876488095 validation score: 0.844345238095\n",
      "80_Ridge_2.0 training score: 0.863876488095 validation score: 0.844345238095\n",
      "\n",
      "80_Lasso_0.0 training score: 0.863876488095 validation score: 0.844345238095\n",
      "80_Lasso_0.1 training score: 0.854873511905 validation score: 0.843898809524\n",
      "80_Lasso_0.2 training score: 0.851116071429 validation score: 0.839732142857\n",
      "80_Lasso_0.3 training score: 0.848177083333 validation score: 0.836607142857\n",
      "80_Lasso_0.4 training score: 0.845089285714 validation score: 0.831845238095\n",
      "80_Lasso_0.5 training score: 0.842819940476 validation score: 0.829464285714\n",
      "80_Lasso_0.6 training score: 0.839508928571 validation score: 0.82693452381\n",
      "80_Lasso_0.7 training score: 0.835379464286 validation score: 0.821279761905\n",
      "80_Lasso_0.8 training score: 0.832328869048 validation score: 0.817261904762\n",
      "80_Lasso_0.9 training score: 0.82927827381 validation score: 0.813988095238\n",
      "80_Lasso_1.0 training score: 0.826227678571 validation score: 0.810714285714\n",
      "80_Lasso_1.1 training score: 0.822953869048 validation score: 0.809375\n",
      "80_Lasso_1.2 training score: 0.819010416667 validation score: 0.804761904762\n",
      "80_Lasso_1.3 training score: 0.815401785714 validation score: 0.803273809524\n",
      "80_Lasso_1.4 training score: 0.812946428571 validation score: 0.801636904762\n",
      "80_Lasso_1.5 training score: 0.811235119048 validation score: 0.799255952381\n",
      "80_Lasso_1.6 training score: 0.808444940476 validation score: 0.79568452381\n",
      "80_Lasso_1.7 training score: 0.806063988095 validation score: 0.794047619048\n",
      "80_Lasso_1.8 training score: 0.803794642857 validation score: 0.791666666667\n",
      "80_Lasso_1.9 training score: 0.801227678571 validation score: 0.790327380952\n",
      "80_Lasso_2.0 training score: 0.798102678571 validation score: 0.788392857143\n"
     ]
    }
   ],
   "source": [
    "for alpha in np.linspace(0, 2, 21):\n",
    "    m_ridge = OneVsRestClassifier(Ridge(alpha=alpha))\n",
    "\n",
    "    with warnings.catch_warnings():\n",
    "        warnings.simplefilter(\"ignore\")\n",
    "        m_ridge.fit(x_train, y_train)\n",
    "        print(\n",
    "            \"80_Ridge_\"+str(alpha), \"training score:\", m_ridge.score(x_train, y_train),\n",
    "            \"validation score:\", m_ridge.score(x_valid, y_valid))\n",
    "        y_test = m_ridge.predict(x_test)\n",
    "        output_csv(\"80_Ridge_\"+str(alpha)+\".csv\", y_test)\n",
    "print()\n",
    "for alpha in np.linspace(0, 2, 21):\n",
    "    m_lasso = OneVsRestClassifier(Lasso(alpha=alpha))\n",
    "\n",
    "    with warnings.catch_warnings():\n",
    "        warnings.simplefilter(\"ignore\")\n",
    "        m_lasso.fit(x_train, y_train)\n",
    "        print(\n",
    "            \"80_Lasso_\"+str(alpha), \"training score:\", m_lasso.score(x_train, y_train),\n",
    "            \"validation score:\", m_lasso.score(x_valid, y_valid))\n",
    "        y_test = m_lasso.predict(x_test)\n",
    "        output_csv(\"80_Lasso_\"+str(alpha)+\".csv\", y_test)"
   ]
  },
  {
   "cell_type": "code",
   "execution_count": 32,
   "metadata": {},
   "outputs": [
    {
     "name": "stdout",
     "output_type": "stream",
     "text": [
      "\n",
      " OvR(Ridge) Started:\n",
      "\tTrainingScore: 0.860576719577 \tValidationScore: 0.848547619048\n",
      "\n",
      " OvR(Lasso) Started:\n",
      "\tTrainingScore: 0.860574074074 \tValidationScore: 0.848547619048\n"
     ]
    }
   ],
   "source": [
    "from sklearn.model_selection import KFold\n",
    "from copy import deepcopy\n",
    "\n",
    "\n",
    "models = [\n",
    "    #(\"SGDC\", SGDClassifier()),\n",
    "    #(\"OvO(LogRegression)\", OneVsOneClassifier(LogisticRegression())),\n",
    "    #(\"OvR(LogRegression)\", OneVsRestClassifier(LogisticRegression())),\n",
    "    #(\"OvO(LDA)\", OneVsOneClassifier(LDA())),\n",
    "    #(\"OvR(LDA)\", OneVsRestClassifier(LDA())),\n",
    "    #(\"OvO(Ridge)\", OneVsOneClassifier(Ridge(alpha=1.0))),\n",
    "    (\"OvR(Ridge)\", OneVsRestClassifier(Ridge(alpha=0.1))),\n",
    "    #(\"OvO(Lasso)\", OneVsOneClassifier(Lasso(0.1))),\n",
    "    (\"OvR(Lasso)\", OneVsRestClassifier(Lasso(0)))\n",
    "]\n",
    "\n",
    "def kfold_train(m, x_train, y_train):\n",
    "    kf = KFold(n_splits=10)\n",
    "    scores1 = []\n",
    "    scores2 = []\n",
    "    trained_models = []\n",
    "    for train_idx, valid_idx in kf.split(x_train):\n",
    "        xx_train, yy_train = x_train[train_idx], y_train[train_idx]\n",
    "        xx_valid, yy_valid = x_train[valid_idx], y_train[valid_idx]\n",
    "        m.fit(xx_train, yy_train)\n",
    "        scores1.append(m.score(xx_train, yy_train))\n",
    "        scores2.append(m.score(xx_valid, yy_valid))\n",
    "        trained_models.append(m)\n",
    "    return trained_models, np.mean(scores1), np.mean(scores2)\n",
    "\n",
    "def _choose(pred):\n",
    "    \"\"\" Choose the most    \"\"\"\n",
    "    m = {}\n",
    "    for n in pred:\n",
    "        m[n] = m.get(n, 0) + 1\n",
    "    return sorted(m.keys(), key=lambda n:m[n])[-1]\n",
    "\n",
    "def bulk_predict(trained_models, x_test):\n",
    "    predicts = []\n",
    "    for m in trained_models:\n",
    "        y_predict = m.predict(x_test)\n",
    "        predicts.append(y_predict)\n",
    "    pred_mat = np.matrix(predicts)\n",
    "    y = []\n",
    "    for i in range(pred_mat.shape[1]):\n",
    "        p = _choose(pred_mat[:, i].A1)\n",
    "        y.append(p)\n",
    "    return np.array(y)\n",
    "\n",
    "\n",
    "with warnings.catch_warnings():\n",
    "    warnings.simplefilter(\"ignore\")\n",
    "    for title, m in models:\n",
    "        print(\"\\n\", title, \"Started:\")\n",
    "        trained_models, s1, s2 = kfold_train(deepcopy(m), x_train, y_train)\n",
    "        y_test = bulk_predict(trained_models, x_test)\n",
    "        print(\"\\tTrainingScore:\", s1, \"\\tValidationScore:\", s2)\n",
    "        output_csv(\"kfold_\"+title+\".csv\", y_test)"
   ]
  },
  {
   "cell_type": "code",
   "execution_count": null,
   "metadata": {
    "collapsed": true
   },
   "outputs": [],
   "source": []
  }
 ],
 "metadata": {
  "kernelspec": {
   "display_name": "Python 3",
   "language": "python",
   "name": "python3"
  },
  "language_info": {
   "codemirror_mode": {
    "name": "ipython",
    "version": 3
   },
   "file_extension": ".py",
   "mimetype": "text/x-python",
   "name": "python",
   "nbconvert_exporter": "python",
   "pygments_lexer": "ipython3",
   "version": "3.6.0"
  }
 },
 "nbformat": 4,
 "nbformat_minor": 2
}
