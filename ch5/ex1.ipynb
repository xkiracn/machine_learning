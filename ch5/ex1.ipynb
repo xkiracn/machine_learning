{
 "cells": [
  {
   "cell_type": "code",
   "execution_count": null,
   "metadata": {
    "collapsed": true
   },
   "outputs": [],
   "source": [
    "'''\n",
    "用MLP解决如下问题\n",
    "x = [[0.1, 0.7, 0.8, 0.8, 1.0, 0.3, 0.0, -0.3, -0.5, -1.5],\n",
    "     [1.2, 1.8, 1.6, 0.6, 0.8, 0.5, 0.2, 0.8, -1.5, -1.3]]\n",
    "所对应的10组二元目标矢量为：\n",
    "y = [[1, 1, 1, 0, 0, 1, 1, 1, 0, 0],\n",
    "     [0, 0, 0, 0, 0, 1, 1, 1, 1, 1]]\n",
    "'''"
   ]
  },
  {
   "cell_type": "code",
   "execution_count": 89,
   "metadata": {},
   "outputs": [
    {
     "name": "stdout",
     "output_type": "stream",
     "text": [
      "1.0\n"
     ]
    },
    {
     "data": {
      "text/plain": [
       "array([[1, 0],\n",
       "       [1, 0],\n",
       "       [1, 0],\n",
       "       [0, 0],\n",
       "       [0, 0],\n",
       "       [1, 1],\n",
       "       [1, 1],\n",
       "       [1, 1],\n",
       "       [0, 1],\n",
       "       [0, 1]])"
      ]
     },
     "execution_count": 89,
     "metadata": {},
     "output_type": "execute_result"
    }
   ],
   "source": [
    "from sklearn.neural_network import MLPClassifier\n",
    "import numpy as np\n",
    "\n",
    "train_x = np.array([\n",
    "    [ 0.1, 1.2],\n",
    "    [ 0.7, 1.8],\n",
    "    [ 0.8, 1.6],\n",
    "    [ 0.8, 0.6],\n",
    "    [ 1. , 0.8],\n",
    "    [ 0.3, 0.5],\n",
    "    [ 0. , 0.2],\n",
    "    [-0.3, 0.8],\n",
    "    [-0.5,-1.5],\n",
    "    [-1.5,-1.3]])\n",
    "\n",
    "train_y = np.array([\n",
    "    [1, 0],\n",
    "    [1, 0],\n",
    "    [1, 0],\n",
    "    [0, 0],\n",
    "    [0, 0],\n",
    "    [1, 1],\n",
    "    [1, 1],\n",
    "    [1, 1],\n",
    "    [0, 1],\n",
    "    [0, 1]])\n",
    "model = MLPClassifier(\n",
    "    activation=\"relu\",\n",
    "    solver=\"adam\",\n",
    "    learning_rate_init=0.001,\n",
    "    tol=0.00001,\n",
    "    max_iter=500,\n",
    "    hidden_layer_sizes=(100, 100, 100))\n",
    "model.fit(train_x, train_y)\n",
    "print(model.score(train_x, train_y))"
   ]
  },
  {
   "cell_type": "code",
   "execution_count": null,
   "metadata": {
    "collapsed": true
   },
   "outputs": [],
   "source": [
    "'''\n",
    "用MLP解决Kaggle手写数字识别问题，通过KFold找到你的最优网络\n",
    "'''"
   ]
  },
  {
   "cell_type": "code",
   "execution_count": 2,
   "metadata": {},
   "outputs": [
    {
     "name": "stdout",
     "output_type": "stream",
     "text": [
      ">>> Data loaded.\n",
      "0.957679505468\n",
      "0.956945765937\n",
      "0.963112803427\n",
      "0.947393477743\n",
      "0.959523809524\n",
      "0.894022386282\n",
      "0.946415813289\n",
      "0.956635692161\n",
      "0.963536701621\n",
      "0.954957102002\n"
     ]
    }
  ],
   "source": [
    "from sklearn.neural_network import MLPClassifier\n",
    "from sklearn.model_selection import StratifiedKFold\n",
    "import numpy as np\n",
    "import pandas as pd\n",
    "\n",
    "train = np.matrix(pd.read_csv(\"dr_train.csv\"))\n",
    "train_x = train[:, 1:]\n",
    "train_y = train[:, 0].A1\n",
    "print(\">>> Data loaded.\")\n",
    "\n",
    "kfold = StratifiedKFold(n_splits=10)\n",
    "\n",
    "def output_csv(filename, y):\n",
    "    df_pred = pd.DataFrame({\"ImageId\": range(1, len(y) + 1), \"Label\": y}) \n",
    "    df_pred.to_csv(filename, index=False)\n",
    "\n",
    "def _choose(pred):\n",
    "    \"\"\" Choose the most    \"\"\"\n",
    "    m = {}\n",
    "    for n in pred:\n",
    "        m[n] = m.get(n, 0) + 1\n",
    "    return sorted(m.keys(), key=lambda n:m[n])[-1]\n",
    "\n",
    "def bulk_predict(trained_models, x_test):\n",
    "    predicts = []\n",
    "    for m in trained_models:\n",
    "        y_predict = m.predict(x_test)\n",
    "        predicts.append(y_predict)\n",
    "    pred_mat = np.matrix(predicts)\n",
    "    y = []\n",
    "    for i in range(pred_mat.shape[1]):\n",
    "        p = _choose(pred_mat[:, i].A1)\n",
    "        y.append(p)\n",
    "    return np.array(y)\n",
    "\n",
    "dt_models = []\n",
    "for idx_train, idx_test in kfold.split(train_x, train_y):\n",
    "    trn_x = train_x[idx_train]\n",
    "    trn_y = train_y[idx_train]\n",
    "    trn_tst_x = train_x[idx_test]\n",
    "    trn_tst_y = train_y[idx_test]\n",
    "    model = MLPClassifier(\n",
    "        activation=\"relu\",\n",
    "        solver=\"adam\",\n",
    "        verbose=False,\n",
    "        learning_rate_init=0.001,\n",
    "        tol=0.000001,\n",
    "        max_iter=3000,\n",
    "        hidden_layer_sizes=np.array([500, 500, 500]))\n",
    "    model.fit(trn_x, trn_y)\n",
    "    print(model.score(trn_tst_x, trn_tst_y))\n",
    "    dt_models.append(model)"
   ]
  },
  {
   "cell_type": "code",
   "execution_count": null,
   "metadata": {},
   "outputs": [],
   "source": [
    "test_x = np.matrix(pd.read_csv(\"dr_test.csv\"))\n",
    "test_y = bulk_predict(dt_models, test_x)\n",
    "output_csv(\"dt_kaggle.csv\", test_y)"
   ]
  },
  {
   "cell_type": "code",
   "execution_count": null,
   "metadata": {
    "collapsed": true
   },
   "outputs": [],
   "source": []
  }
 ],
 "metadata": {
  "kernelspec": {
   "display_name": "Python 3",
   "language": "python",
   "name": "python3"
  },
  "language_info": {
   "codemirror_mode": {
    "name": "ipython",
    "version": 3
   },
   "file_extension": ".py",
   "mimetype": "text/x-python",
   "name": "python",
   "nbconvert_exporter": "python",
   "pygments_lexer": "ipython3",
   "version": "3.6.0"
  }
 },
 "nbformat": 4,
 "nbformat_minor": 2
}
