{
 "cells": [
  {
   "cell_type": "code",
   "execution_count": 242,
   "metadata": {},
   "outputs": [
    {
     "name": "stdout",
     "output_type": "stream",
     "text": [
      "    色泽  根蒂  敲声  纹理  脐部  触感     密度    含糖率 好瓜\n",
      "0   青绿  蜷缩  浊响  清晰  凹陷  硬滑  0.697  0.460  是\n",
      "1   乌黑  蜷缩  沉闷  清晰  凹陷  硬滑  0.774  0.376  是\n",
      "2   乌黑  蜷缩  浊响  清晰  凹陷  硬滑  0.634  0.264  是\n",
      "3   青绿  蜷缩  沉闷  清晰  凹陷  硬滑  0.608  0.318  是\n",
      "4   浅白  蜷缩  浊响  清晰  凹陷  硬滑  0.556  0.215  是\n",
      "5   青绿  稍蜷  浊响  清晰  稍凹  软粘  0.403  0.237  是\n",
      "6   乌黑  稍蜷  浊响  稍糊  稍凹  软粘  0.481  0.149  是\n",
      "7   乌黑  稍蜷  浊响  清晰  稍凹  硬滑  0.437  0.211  是\n",
      "8   乌黑  稍蜷  沉闷  稍糊  稍凹  硬滑  0.666  0.091  否\n",
      "9   青绿  硬挺  清脆  清晰  平坦  软粘  0.243  0.267  否\n",
      "10  浅白  硬挺  清脆  模糊  平坦  硬滑  0.245  0.057  否\n",
      "11  浅白  蜷缩  浊响  模糊  平坦  软粘  0.343  0.099  否\n",
      "12  青绿  稍蜷  浊响  稍糊  凹陷  硬滑  0.639  0.161  否\n",
      "13  浅白  稍蜷  沉闷  稍糊  凹陷  硬滑  0.657  0.198  否\n",
      "14  乌黑  稍蜷  浊响  清晰  稍凹  软粘  0.360  0.370  否\n",
      "15  浅白  蜷缩  浊响  模糊  平坦  硬滑  0.593  0.042  否\n",
      "16  青绿  蜷缩  沉闷  稍糊  稍凹  硬滑  0.719  0.103  否\n"
     ]
    }
   ],
   "source": [
    "# Logistic Regression\n",
    "# Watermelon datasets\n",
    "import numpy as np\n",
    "import pandas as pd\n",
    "\n",
    "datas = pd.read_csv(\"watermelon.csv\")\n",
    "print(datas)\n",
    "for title in datas.columns:\n",
    "    if datas[title].dtype == \"object\":\n",
    "        datas[title] = datas[title].astype(\"category\").cat.codes"
   ]
  },
  {
   "cell_type": "code",
   "execution_count": 173,
   "metadata": {},
   "outputs": [],
   "source": [
    "x_train = np.matrix(datas.iloc[:10, :-1])\n",
    "y_train = np.matrix(datas.iloc[:10, -1:])\n",
    "x_test = np.matrix(datas.iloc[10:, :-1])\n",
    "y_test = np.matrix(datas.iloc[10:, -1:])\n",
    "x = np.matrix(datas.iloc[:, :-1])\n",
    "y = np.matrix(datas.iloc[:, -1:])"
   ]
  },
  {
   "cell_type": "code",
   "execution_count": 247,
   "metadata": {},
   "outputs": [
    {
     "name": "stdout",
     "output_type": "stream",
     "text": [
      "Predict prob: 50.5104708009 Target: 0\n",
      "Predict prob: 58.1531195904 Target: 0\n",
      "Predict prob: 74.9651681752 Target: 0\n",
      "Predict prob: 53.1711148299 Target: 0\n",
      "Predict prob: 74.0071230113 Target: 0\n",
      "Predict prob: 53.3796242947 Target: 0\n",
      "Predict prob: 102.236507608 Target: 0\n"
     ]
    }
   ],
   "source": [
    "def sigmoid(z):\n",
    "    return 1.0/(1.0+np.exp(-z))\n",
    "\n",
    "def gradAscent(x, y, theta, alpha, m, maxCycles):\n",
    "    xTrans = x.transpose()\n",
    "    for i in range(maxCycles):\n",
    "        hypothesis = sigmoid(np.dot(x, theta))\n",
    "        loss = hypothesis - y\n",
    "        gradient = xTrans * loss\n",
    "        theta = theta + alpha * gradient\n",
    "    return theta\n",
    "\n",
    "m, n = x_train.shape\n",
    "theta = np.ones((n, 1))\n",
    "theta = gradAscent(x_train, y_train, theta, 0.01, m, 500)\n",
    "y_predicts = []\n",
    "for i in range(x_test.shape[0]):\n",
    "    y_pred = np.dot(x_test[i], theta)\n",
    "    y_predicts.append(y_pred[0, 0])\n",
    "    y_target = y_test[i]\n",
    "    print(\"Predict prob:\", y_pred[0, 0], \"Target:\", y_target[0, 0])"
   ]
  },
  {
   "cell_type": "code",
   "execution_count": 248,
   "metadata": {},
   "outputs": [
    {
     "name": "stdout",
     "output_type": "stream",
     "text": [
      "Threshold: 50.5105, P: 0.000, R: 0.000, F1: 0.000\n",
      "Threshold: 53.1711, P: 0.000, R: 0.000, F1: 0.000\n",
      "Threshold: 53.3796, P: 0.000, R: 0.000, F1: 0.000\n",
      "Threshold: 58.1531, P: 0.000, R: 0.000, F1: 0.000\n",
      "Threshold: 74.0071, P: 0.000, R: 0.000, F1: 0.000\n",
      "Threshold: 74.9652, P: 0.000, R: 0.000, F1: 0.000\n",
      "Threshold: 102.2365, P: 0.000, R: 0.000, F1: 0.000\n"
     ]
    },
    {
     "name": "stderr",
     "output_type": "stream",
     "text": [
      "/root/miniconda3/lib/python3.6/site-packages/sklearn/metrics/classification.py:1115: UndefinedMetricWarning: Recall is ill-defined and being set to 0.0 due to no true samples.\n",
      "  'recall', 'true', average, warn_for)\n",
      "/root/miniconda3/lib/python3.6/site-packages/sklearn/metrics/classification.py:1115: UndefinedMetricWarning: F-score is ill-defined and being set to 0.0 due to no true samples.\n",
      "  'recall', 'true', average, warn_for)\n"
     ]
    }
   ],
   "source": [
    "from sklearn import metrics\n",
    "thresholds = sorted(y_predicts)\n",
    "for th in thresholds:\n",
    "    y_pred = [1 if p>th else 0 for p in y_predicts]\n",
    "    p = metrics.precision_score(y_test.A1, y_pred)\n",
    "    r = metrics.recall_score(y_test.A1, y_pred)\n",
    "    f1 = metrics.f1_score(y_test.A1, y_pred)\n",
    "    print(\"Threshold: %.4f, P: %.3f, R: %.3f, F1: %.3f\" % (th, p, r, f1))"
   ]
  },
  {
   "cell_type": "code",
   "execution_count": 245,
   "metadata": {},
   "outputs": [
    {
     "name": "stdout",
     "output_type": "stream",
     "text": [
      "[1 1 1 1 1 1 1]\n"
     ]
    }
   ],
   "source": [
    "from sklearn import linear_model\n",
    "logistic = linear_model.LogisticRegression()\n",
    "m = logistic.fit(x_train, y_train.A1)\n",
    "m.predict_proba(x_test)\n",
    "y_pred = m.predict(x_test)\n",
    "print(y_pred)"
   ]
  },
  {
   "cell_type": "code",
   "execution_count": null,
   "metadata": {
    "collapsed": true
   },
   "outputs": [],
   "source": []
  }
 ],
 "metadata": {
  "kernelspec": {
   "display_name": "Python 3",
   "language": "python",
   "name": "python3"
  },
  "language_info": {
   "codemirror_mode": {
    "name": "ipython",
    "version": 3
   },
   "file_extension": ".py",
   "mimetype": "text/x-python",
   "name": "python",
   "nbconvert_exporter": "python",
   "pygments_lexer": "ipython3",
   "version": "3.6.0"
  }
 },
 "nbformat": 4,
 "nbformat_minor": 2
}
