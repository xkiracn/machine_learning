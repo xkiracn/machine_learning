{
 "cells": [
  {
   "cell_type": "code",
   "execution_count": 18,
   "metadata": {
    "collapsed": true
   },
   "outputs": [],
   "source": [
    "# 用kaggle手写数字识别数据\n",
    "\n",
    "import pandas as pd\n",
    "import numpy as np\n",
    "\n",
    "train = np.matrix(pd.read_csv(\"dr_train.csv\"))\n",
    "train_x = train[:, 1:]\n",
    "train_y = train[:, 0].A1\n",
    "\n",
    "test_x = np.matrix(pd.read_csv(\"dr_test.csv\"))"
   ]
  },
  {
   "cell_type": "code",
   "execution_count": 19,
   "metadata": {},
   "outputs": [
    {
     "name": "stdout",
     "output_type": "stream",
     "text": [
      "0.786019971469\n",
      "0.77973358706\n",
      "0.774631128034\n",
      "0.773863365865\n",
      "0.782142857143\n",
      "0.772803048345\n",
      "0.77399380805\n",
      "0.773647843698\n",
      "0.781935176358\n",
      "0.779075309819\n"
     ]
    }
   ],
   "source": [
    "from sklearn import tree\n",
    "from sklearn.model_selection import StratifiedKFold\n",
    "\n",
    "kfold = StratifiedKFold(n_splits=10)\n",
    "\n",
    "\"\"\"\n",
    "for depth in range(3, 15):\n",
    "    scores = []\n",
    "    for idx_train, idx_test in kfold.split(train_x, train_y):\n",
    "        trn_x = train_x[idx_train]\n",
    "        trn_y = train_y[idx_train]\n",
    "        trn_tst_x = train_x[idx_test]\n",
    "        trn_tst_y = train_y[idx_test]\n",
    "        clf = tree.DecisionTreeClassifier(max_depth=depth)\n",
    "        clf.fit(trn_x, trn_y)\n",
    "        scores.append(clf.score(trn_tst_x, trn_tst_y))\n",
    "    print(depth, np.mean(scores))\n",
    "\"\"\"\n",
    "\n",
    "def output_csv(filename, y):\n",
    "    df_pred = pd.DataFrame({\"ImageId\": range(1, len(y) + 1), \"Label\": y}) \n",
    "    df_pred.to_csv(filename, index=False)\n",
    "\n",
    "def _choose(pred):\n",
    "    \"\"\" Choose the most    \"\"\"\n",
    "    m = {}\n",
    "    for n in pred:\n",
    "        m[n] = m.get(n, 0) + 1\n",
    "    return sorted(m.keys(), key=lambda n:m[n])[-1]\n",
    "\n",
    "def bulk_predict(trained_models, x_test):\n",
    "    predicts = []\n",
    "    for m in trained_models:\n",
    "        y_predict = m.predict(x_test)\n",
    "        predicts.append(y_predict)\n",
    "    pred_mat = np.matrix(predicts)\n",
    "    y = []\n",
    "    for i in range(pred_mat.shape[1]):\n",
    "        p = _choose(pred_mat[:, i].A1)\n",
    "        y.append(p)\n",
    "    return np.array(y)\n",
    "\n",
    "clf = tree.DecisionTreeClassifier(max_depth=7)\n",
    "dt_models = []\n",
    "for idx_train, idx_test in kfold.split(train_x, train_y):\n",
    "    trn_x = train_x[idx_train]\n",
    "    trn_y = train_y[idx_train]\n",
    "    trn_tst_x = train_x[idx_test]\n",
    "    trn_tst_y = train_y[idx_test]\n",
    "    clf = tree.DecisionTreeClassifier(max_depth=7)\n",
    "    clf.fit(trn_x, trn_y)\n",
    "    print(clf.score(trn_tst_x, trn_tst_y))\n",
    "    dt_models.append(clf)\n",
    "y_test = bulk_predict(dt_models, test_x)\n",
    "output_csv(\"dt_kaggle.csv\", y_test)"
   ]
  },
  {
   "cell_type": "code",
   "execution_count": null,
   "metadata": {
    "collapsed": true
   },
   "outputs": [],
   "source": []
  }
 ],
 "metadata": {
  "kernelspec": {
   "display_name": "Python 3",
   "language": "python",
   "name": "python3"
  },
  "language_info": {
   "codemirror_mode": {
    "name": "ipython",
    "version": 3
   },
   "file_extension": ".py",
   "mimetype": "text/x-python",
   "name": "python",
   "nbconvert_exporter": "python",
   "pygments_lexer": "ipython3",
   "version": "3.6.0"
  }
 },
 "nbformat": 4,
 "nbformat_minor": 2
}
