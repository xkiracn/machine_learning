{
 "cells": [
  {
   "cell_type": "markdown",
   "metadata": {},
   "source": [
    "### MLBook-1\n",
    "#### Ex 5\n",
    "用上题实现的自助法，对Kaggle数字识别问题选择“训练集”和“测试集/验证集”。在本地根据训练集训练模型M，在本地对“测试集/验证集”计算正确率。用M对test.csv预测结果，上传到kaggle，查看kaggle分数。\n",
    "\n",
    "** 备注：仅做演示，对训练集文件做了删减。 **"
   ]
  },
  {
   "cell_type": "code",
   "execution_count": 9,
   "metadata": {},
   "outputs": [],
   "source": [
    "import pandas as pd\n",
    "import numpy as np\n",
    "\n",
    "\n",
    "def bootstrap(length):\n",
    "    \"\"\"\n",
    "    Return:\n",
    "        indexes of train/target datasets.\n",
    "    \"\"\"\n",
    "    train = set()\n",
    "    for m in range(length):\n",
    "        train.add(np.random.randint(0, length))\n",
    "    test = set(range(length)) - train\n",
    "    return list(train), list(test)\n",
    "\n",
    "\n",
    "dr_train_df = pd.read_csv(\"dr_train.csv\")\n",
    "idx_train, idx_test = bootstrap(dr_train_df.shape[0])\n",
    "dr_train_x = dr_train_df.values[idx_train, 1:]\n",
    "dr_train_y = dr_train_df.values[idx_train, 0]\n",
    "dr_test_x = dr_train_df.values[idx_test, 1:]\n",
    "dr_test_y = dr_train_df.values[idx_test, 0]\n",
    "\n",
    "dr_pred_df = pd.read_csv(\"dr_test.csv\")\n",
    "dr_pred_x = dr_pred_df.values"
   ]
  },
  {
   "cell_type": "code",
   "execution_count": 10,
   "metadata": {},
   "outputs": [
    {
     "name": "stdout",
     "output_type": "stream",
     "text": [
      ">>> SDG\n",
      ">>> Accuracy: 0.8304\n",
      ">>> Cost 0.115 secs\n",
      "\n",
      ">>> SVC\n",
      ">>> Accuracy: 0.1119\n",
      ">>> Cost 6.229 secs\n",
      "\n",
      ">>> LogisticRegression\n",
      ">>> Accuracy: 0.8304\n",
      ">>> Cost 1.140 secs\n",
      "\n",
      ">>> SVC(gamma=0.001, C=100)\n",
      ">>> Accuracy: 0.1119\n",
      ">>> Cost 6.265 secs\n",
      "\n"
     ]
    }
   ],
   "source": [
    "from sklearn import linear_model\n",
    "from sklearn import svm\n",
    "from sklearn import metrics\n",
    "\n",
    "\n",
    "def timeit(func):\n",
    "    import time\n",
    "    def wrapper(*args, **kwargs):\n",
    "        t1 = time.time()\n",
    "        ret = func(*args, **kwargs)\n",
    "        t2 = time.time()\n",
    "        print(\">>> Cost %.3f secs\" % (t2 - t1))\n",
    "        return ret\n",
    "    return wrapper\n",
    "\n",
    "@timeit\n",
    "def score_accuracy(model, tr_x, tr_y, test_x, test_y):\n",
    "    model.fit(tr_x, tr_y)\n",
    "    y_pred = model.predict(test_x)\n",
    "    y_true = test_y\n",
    "    accuracy = metrics.accuracy_score(y_true, y_pred)\n",
    "    print(\">>> Accuracy: %.4f\" % accuracy)\n",
    "\n",
    "models = {\n",
    "    \"SDG\": linear_model.SGDClassifier(),\n",
    "    \"SVC\": svm.SVC(),\n",
    "    \"LogisticRegression\": linear_model.LogisticRegression(),\n",
    "    \"SVC(gamma=0.001, C=100)\": svm.SVC(gamma=0.001, C=100)\n",
    "}\n",
    "\n",
    "for name, m in models.items():\n",
    "    print(\">>> \" + name)\n",
    "    score_accuracy(m, dr_train_x, dr_train_y, dr_test_x, dr_test_y)\n",
    "    print()"
   ]
  },
  {
   "cell_type": "code",
   "execution_count": 11,
   "metadata": {
    "collapsed": true
   },
   "outputs": [],
   "source": [
    "lr = linear_model.LogisticRegression()\n",
    "lr.fit(dr_train_x, dr_train_y)\n",
    "dr_pred_y = lr.predict(dr_pred_x)\n",
    "\n",
    "df = pd.DataFrame({\"ImageId\": range(1, len(dr_pred_y) + 1), \"Label\": dr_pred_y})\n",
    "df.to_csv(\"dr_submission1.csv\", index = False)"
   ]
  }
 ],
 "metadata": {
  "kernelspec": {
   "display_name": "Python 3",
   "language": "python",
   "name": "python3"
  },
  "language_info": {
   "codemirror_mode": {
    "name": "ipython",
    "version": 3
   },
   "file_extension": ".py",
   "mimetype": "text/x-python",
   "name": "python",
   "nbconvert_exporter": "python",
   "pygments_lexer": "ipython3",
   "version": "3.6.0"
  }
 },
 "nbformat": 4,
 "nbformat_minor": 2
}
