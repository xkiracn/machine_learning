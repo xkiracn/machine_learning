{
 "cells": [
  {
   "cell_type": "code",
   "execution_count": 164,
   "metadata": {},
   "outputs": [
    {
     "name": "stdout",
     "output_type": "stream",
     "text": [
      "********** 4.1 Demonstration of bootstrap **********\n",
      "Train:  [1, 2, 3, 6, 7, 10, 11, 17, 18, 21, 23, 24, 26, 27, 28, 29, 30, 31, 37, 39, 42, 44, 45, 46, 47, 48, 49, 50, 51, 52, 54, 56, 60, 62, 65, 66, 67, 68, 69, 70, 72, 73, 75, 77, 79, 80, 81, 82, 83, 85, 88, 89, 90, 91, 92, 93, 98, 99]\n",
      "Test :  [0, 4, 5, 8, 9, 12, 13, 14, 15, 16, 19, 20, 22, 25, 32, 33, 34, 35, 36, 38, 40, 41, 43, 53, 55, 57, 58, 59, 61, 63, 64, 71, 74, 76, 78, 84, 86, 87, 94, 95, 96, 97]\n",
      "**************************************************\n"
     ]
    }
   ],
   "source": [
    "from sklearn.datasets import load_iris\n",
    "import numpy as np\n",
    "\n",
    "\n",
    "def bootstrap(length):\n",
    "    \"\"\"\n",
    "    Return:\n",
    "        indexes of train/target datasets.\n",
    "    \"\"\"\n",
    "    train = set()\n",
    "    for m in range(length):\n",
    "        train.add(np.random.randint(0, length))\n",
    "    test = set(range(length)) - train\n",
    "    return list(train), list(test)\n",
    "\n",
    "iris = load_iris()\n",
    "data_x = iris.data[:100]\n",
    "data_y = iris.target[:100]\n",
    "\n",
    "idx_train, idx_test = bootstrap(len(data_x))\n",
    "print(\"*\" * 10 + \" 4.1 Demonstration of bootstrap \" + \"*\" * 10)\n",
    "print(\"Train: \", idx_train)\n",
    "print(\"Test : \", idx_test)\n",
    "print(\"*\" * 50)\n",
    "\n",
    "train_x = data_x[idx_train]\n",
    "train_y = data_y[idx_train]\n",
    "test_x = data_x[idx_test]\n",
    "test_y = data_y[idx_test]"
   ]
  },
  {
   "cell_type": "code",
   "execution_count": 169,
   "metadata": {},
   "outputs": [
    {
     "name": "stdout",
     "output_type": "stream",
     "text": [
      "***** 4.2 Score of SDGClassifier *****\n",
      "Confusion Matrix: \n",
      " [[23  0]\n",
      " [ 0 19]]\n",
      "Accuracy: 1.00\n",
      "Precision: 1.00\n",
      "Recall: 1.00\n",
      "F1: 1.00\n",
      "\n",
      "***** 4.3 Score of SVC *****\n",
      "Confusion Matrix: \n",
      " [[23  0]\n",
      " [ 0 19]]\n",
      "Accuracy: 1.00\n",
      "Precision: 1.00\n",
      "Recall: 1.00\n",
      "F1: 1.00\n",
      "\n",
      "***** 4.4 Score of LogisticRegression *****\n",
      "Confusion Matrix: \n",
      " [[23  0]\n",
      " [ 0 19]]\n",
      "Accuracy: 1.00\n",
      "Precision: 1.00\n",
      "Recall: 1.00\n",
      "F1: 1.00\n",
      "\n",
      "***** 4.5 Score of SVC(gamma=0.001, C=100) *****\n",
      "Confusion Matrix: \n",
      " [[23  0]\n",
      " [ 0 19]]\n",
      "Accuracy: 1.00\n",
      "Precision: 1.00\n",
      "Recall: 1.00\n",
      "F1: 1.00\n",
      "\n"
     ]
    }
   ],
   "source": [
    "from sklearn import linear_model\n",
    "from sklearn import metrics\n",
    "from sklearn import svm\n",
    "\n",
    "\n",
    "def score(model, tr_x, tr_y, test_x, test_y):\n",
    "    model.fit(tr_x, tr_y)\n",
    "    y_pred = model.predict(test_x)\n",
    "    y_true = test_y\n",
    "    accuracy = metrics.accuracy_score(y_true, y_pred)\n",
    "    cm = metrics.confusion_matrix(y_true, y_pred)\n",
    "    P = metrics.precision_score(y_true, y_pred)\n",
    "    R = metrics.recall_score(y_true, y_pred)\n",
    "    F1 = metrics.f1_score(y_true, y_pred)\n",
    "    print(\"Confusion Matrix: \\n\", cm)\n",
    "    print(\"Accuracy: %.2f\" % accuracy)\n",
    "    print(\"Precision: %.2f\" % P)\n",
    "    print(\"Recall: %.2f\" % R)\n",
    "    print(\"F1: %.2f\\n\" % F1)\n",
    "\n",
    "print(\"*\" * 5 + \" 4.2 Score of SDGClassifier \" + \"*\" * 5)\n",
    "score(linear_model.SGDClassifier(), train_x, train_y, test_x, test_y)\n",
    "print(\"*\" * 5 + \" 4.3 Score of SVC \" + \"*\" * 5)\n",
    "score(svm.SVC(), train_x, train_y, test_x, test_y)\n",
    "print(\"*\" * 5 + \" 4.4 Score of LogisticRegression \" + \"*\" * 5)\n",
    "score(linear_model.LogisticRegression(), train_x, train_y, test_x, test_y)\n",
    "print(\"*\" * 5 + \" 4.5 Score of SVC(gamma=0.001, C=100) \" + \"*\" * 5)\n",
    "score(svm.SVC(gamma=0.001, C=100), train_x, train_y, test_x, test_y)"
   ]
  },
  {
   "cell_type": "code",
   "execution_count": 156,
   "metadata": {},
   "outputs": [
    {
     "name": "stdout",
     "output_type": "stream",
     "text": [
      "Exercise 4.4 & 4.5\n"
     ]
    }
   ],
   "source": [
    "print(\"Exercise 4.4 & 4.5\")\n",
    "print(\"Draw ROC curve.\")"
   ]
  },
  {
   "cell_type": "code",
   "execution_count": 173,
   "metadata": {},
   "outputs": [],
   "source": [
    "import pandas\n",
    "dr_train_df = pandas.read_csv(\"dr_train.csv\")\n",
    "idx_train, idx_test = bootstrap(train_df.shape[0])\n",
    "dr_train_x = train_df.values[idx_train, 1:]\n",
    "dr_train_y = train_df.values[idx_train, 0]\n",
    "dr_test_x = train_df.values[idx_test, 1:]\n",
    "dr_test_y = train_df.values[idx_test, 0]\n",
    "\n",
    "dr_pred_df = pandas.read_csv(\"dr_test.csv\")\n",
    "dr_pred_x = test_df.values"
   ]
  },
  {
   "cell_type": "code",
   "execution_count": 176,
   "metadata": {},
   "outputs": [
    {
     "name": "stdout",
     "output_type": "stream",
     "text": [
      ">>> SDG\n",
      ">>> Accuracy: 0.85\n",
      "\n",
      ">>> SVC\n",
      ">>> Accuracy: 0.11\n",
      "\n",
      ">>> LogisticRegression\n",
      ">>> Accuracy: 0.89\n",
      "\n",
      ">>> SVC(gamma=0.001, C=100)\n",
      ">>> Accuracy: 0.11\n",
      "\n"
     ]
    }
   ],
   "source": [
    "def timeit(func):\n",
    "    import time\n",
    "    def wrapper(*args, **kwargs):\n",
    "        t1 = time.time()\n",
    "        ret = func(*args, **kwargs)\n",
    "        t2 = time.time()\n",
    "        print(\">>> Cost %.3f secs\" % (t2 - t1))\n",
    "        return ret\n",
    "    return wrapper\n",
    "\n",
    "@timeit\n",
    "def score_accuracy(model, tr_x, tr_y, test_x, test_y):\n",
    "    model.fit(tr_x, tr_y)\n",
    "    y_pred = model.predict(test_x)\n",
    "    y_true = test_y\n",
    "    accuracy = metrics.accuracy_score(y_true, y_pred)\n",
    "    print(\">>> Accuracy: %.5f\" % accuracy)\n",
    "\n",
    "models = {\n",
    "    \"SDG\": linear_model.SGDClassifier(),\n",
    "    \"SVC\": svm.SVC(),\n",
    "    \"LogisticRegression\": linear_model.LogisticRegression(),\n",
    "    \"SVC(gamma=0.001, C=100)\": svm.SVC(gamma=0.001, C=100)\n",
    "}\n",
    "\n",
    "for name, m in models.items():\n",
    "    print(\">>> \" + name)\n",
    "    score_accuracy(m, dr_train_x, dr_train_y, dr_test_x, dr_test_y)\n",
    "    print()"
   ]
  },
  {
   "cell_type": "code",
   "execution_count": 179,
   "metadata": {},
   "outputs": [
    {
     "name": "stdout",
     "output_type": "stream",
     "text": [
      "[2 0 9 ..., 3 9 2]\n"
     ]
    }
   ],
   "source": [
    "lr = linear_model.LogisticRegression()\n",
    "lr.fit(dr_train_x, dr_train_y)\n",
    "dr_pred_y = lr.predict(dr_pred_x)\n",
    "print(dr_pred_y)"
   ]
  },
  {
   "cell_type": "code",
   "execution_count": 185,
   "metadata": {},
   "outputs": [],
   "source": [
    "df = pandas.DataFrame({\"ImageId\": range(1, len(dr_pred_y) + 1), \"Label\": dr_pred_y})\n",
    "df.to_csv(\"dr_submission.csv\", index = False)"
   ]
  },
  {
   "cell_type": "code",
   "execution_count": null,
   "metadata": {
    "collapsed": true
   },
   "outputs": [],
   "source": []
  }
 ],
 "metadata": {
  "kernelspec": {
   "display_name": "Python 3",
   "language": "python",
   "name": "python3"
  },
  "language_info": {
   "codemirror_mode": {
    "name": "ipython",
    "version": 3
   },
   "file_extension": ".py",
   "mimetype": "text/x-python",
   "name": "python",
   "nbconvert_exporter": "python",
   "pygments_lexer": "ipython3",
   "version": "3.6.0"
  }
 },
 "nbformat": 4,
 "nbformat_minor": 2
}
