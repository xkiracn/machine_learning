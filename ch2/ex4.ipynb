{
 "cells": [
  {
   "cell_type": "markdown",
   "metadata": {},
   "source": [
    "### MLBook-1\n",
    "#### Exercise 4\n",
    "以IRIS数据集前100个样本为例\n",
    "\n",
    "* 4.1\n",
    "实现“自助法”过程，打印出最终选取的“测试集/验证集”和“训练集”的index"
   ]
  },
  {
   "cell_type": "code",
   "execution_count": 2,
   "metadata": {},
   "outputs": [
    {
     "name": "stdout",
     "output_type": "stream",
     "text": [
      "Train:  [1, 3, 4, 5, 6, 7, 8, 12, 13, 15, 17, 18, 20, 21, 22, 23, 24, 26, 27, 28, 29, 31, 32, 33, 34, 35, 37, 38, 39, 40, 42, 43, 44, 46, 48, 49, 50, 51, 53, 58, 59, 60, 61, 65, 68, 71, 72, 73, 75, 76, 77, 78, 79, 80, 84, 85, 87, 89, 90, 91, 92, 93, 94, 96, 97]\n",
      "Test :  [0, 2, 9, 10, 11, 14, 16, 19, 25, 30, 36, 41, 45, 47, 52, 54, 55, 56, 57, 62, 63, 64, 66, 67, 69, 70, 74, 81, 82, 83, 86, 88, 95, 98, 99]\n"
     ]
    }
   ],
   "source": [
    "from sklearn.datasets import load_iris\n",
    "import numpy as np\n",
    "\n",
    "\n",
    "def bootstrap(length):\n",
    "    \"\"\"\n",
    "    Return:\n",
    "        indexes of train/target datasets.\n",
    "    \"\"\"\n",
    "    train = set()\n",
    "    for m in range(length):\n",
    "        train.add(np.random.randint(0, length))\n",
    "    test = set(range(length)) - train\n",
    "    return list(train), list(test)\n",
    "\n",
    "iris = load_iris()\n",
    "data_x = iris.data[:100]\n",
    "data_y = iris.target[:100]\n",
    "\n",
    "idx_train, idx_test = bootstrap(len(data_x))\n",
    "print(\"Train: \", idx_train)\n",
    "print(\"Test : \", idx_test)\n",
    "\n",
    "train_x = data_x[idx_train]\n",
    "train_y = data_y[idx_train]\n",
    "test_x = data_x[idx_test]\n",
    "test_y = data_y[idx_test]"
   ]
  },
  {
   "cell_type": "markdown",
   "metadata": {},
   "source": [
    "---\n",
    "* 4.2\n",
    "用model = linear_model.SGDClassifier()对上面选取的“训练集”进行训练，计算“测试集/验证集”和“训练集”上的正确率、混淆矩阵、P、R、F1\n",
    "* 4.3\n",
    "用model = svm.SVC(gamma=0.001, C=100) 对上面选取的“训练集”进行训练，计算“测试集/验证集”和“训练集”上的正确率、混淆矩阵、P、R、F1\n",
    "* 4.4\n",
    "用model=linear_model.LogisticRegression()对上面选取的“训练集”进行训练，可以得到predict_proba_y = model.predict_proba(train_x)[:,1]。计算“测试集/验证集”和“训练集”的AUC值，画出ROC曲线。\n",
    "* 4.5\n",
    "用model = svm.SVC(gamma=0.001, C=100)，计算“测试集/验证集”和“训练集”的AUC值，画出ROC曲线。"
   ]
  },
  {
   "cell_type": "code",
   "execution_count": 18,
   "metadata": {},
   "outputs": [
    {
     "name": "stdout",
     "output_type": "stream",
     "text": [
      "***** 4.2 Score of SDGClassifier *****\n",
      "Confusion Matrix: \n",
      " [[14  0]\n",
      " [ 1 20]]\n",
      "Accuracy: 0.97\n",
      "Precision: 1.00\n",
      "Recall: 0.95\n",
      "F1: 0.98\n",
      "\n",
      "***** 4.3 Score of SVC *****\n",
      "Confusion Matrix: \n",
      " [[14  0]\n",
      " [ 0 21]]\n",
      "Accuracy: 1.00\n",
      "Precision: 1.00\n",
      "Recall: 1.00\n",
      "F1: 1.00\n",
      "\n",
      "***** 4.4 Score of LogisticRegression *****\n",
      "Confusion Matrix: \n",
      " [[14  0]\n",
      " [ 0 21]]\n",
      "Accuracy: 1.00\n",
      "Precision: 1.00\n",
      "Recall: 1.00\n",
      "F1: 1.00\n",
      "\n",
      "AUC: 1.00\n"
     ]
    },
    {
     "data": {
      "image/png": "[encoded data removed]",
      "text/plain": [
       "<matplotlib.figure.Figure at 0x7f53e5dc0e80>"
      ]
     },
     "metadata": {},
     "output_type": "display_data"
    },
    {
     "name": "stdout",
     "output_type": "stream",
     "text": [
      "AUC: 1.00\n"
     ]
    },
    {
     "data": {
      "image/png": "[encoded data removed]",
      "text/plain": [
       "<matplotlib.figure.Figure at 0x7f53e5ebaef0>"
      ]
     },
     "metadata": {},
     "output_type": "display_data"
    },
    {
     "name": "stdout",
     "output_type": "stream",
     "text": [
      "***** 4.5 Score of SVC(gamma=0.001, C=100) *****\n",
      "Confusion Matrix: \n",
      " [[14  0]\n",
      " [ 0 21]]\n",
      "Accuracy: 1.00\n",
      "Precision: 1.00\n",
      "Recall: 1.00\n",
      "F1: 1.00\n",
      "\n",
      "AUC: 1.00\n"
     ]
    },
    {
     "data": {
      "image/png": "[encoded data removed]",
      "text/plain": [
       "<matplotlib.figure.Figure at 0x7f54198ca208>"
      ]
     },
     "metadata": {},
     "output_type": "display_data"
    },
    {
     "name": "stdout",
     "output_type": "stream",
     "text": [
      "AUC: 1.00\n"
     ]
    },
    {
     "data": {
      "image/png": "[encoded data removed]",
      "text/plain": [
       "<matplotlib.figure.Figure at 0x7f53e3a07e48>"
      ]
     },
     "metadata": {},
     "output_type": "display_data"
    }
   ],
   "source": [
    "from sklearn import linear_model\n",
    "from sklearn import metrics\n",
    "from sklearn import svm\n",
    "\n",
    "from matplotlib import pyplot as plt\n",
    "\n",
    "def draw_roc(y_true, y_score):\n",
    "    fpr, tpr, thresholds = metrics.roc_curve(y_true, y_score)\n",
    "    print(\"AUC: %.2f\" % metrics.auc(fpr, tpr))\n",
    "    plt.plot(fpr, tpr)\n",
    "    plt.ylim(ymin=0)\n",
    "    plt.show()\n",
    "\n",
    "\n",
    "def score(model, tr_x, tr_y, test_x, test_y):\n",
    "    model.fit(tr_x, tr_y)\n",
    "    y_pred = model.predict(test_x)\n",
    "    y_true = test_y\n",
    "    accuracy = metrics.accuracy_score(y_true, y_pred)\n",
    "    cm = metrics.confusion_matrix(y_true, y_pred)\n",
    "    P = metrics.precision_score(y_true, y_pred)\n",
    "    R = metrics.recall_score(y_true, y_pred)\n",
    "    F1 = metrics.f1_score(y_true, y_pred)\n",
    "    print(\"Confusion Matrix: \\n\", cm)\n",
    "    print(\"Accuracy: %.2f\" % accuracy)\n",
    "    print(\"Precision: %.2f\" % P)\n",
    "    print(\"Recall: %.2f\" % R)\n",
    "    print(\"F1: %.2f\\n\" % F1)\n",
    "    return model\n",
    "\n",
    "print(\"*\" * 5 + \" 4.2 Score of SDGClassifier \" + \"*\" * 5)\n",
    "score(linear_model.SGDClassifier(), train_x, train_y, test_x, test_y)\n",
    "\n",
    "print(\"*\" * 5 + \" 4.3 Score of SVC \" + \"*\" * 5)\n",
    "score(svm.SVC(), train_x, train_y, test_x, test_y)\n",
    "\n",
    "print(\"*\" * 5 + \" 4.4 Score of LogisticRegression \" + \"*\" * 5)\n",
    "m = score(linear_model.LogisticRegression(), train_x, train_y, test_x, test_y)\n",
    "print(\"AUC for train data:\")\n",
    "train_y_score = m.predict_proba(train_x)\n",
    "draw_roc(train_y, train_y_score[:,1])\n",
    "print(\"AUC for train data:\")\n",
    "\n",
    "test_y_score = m.predict_proba(test_x)\n",
    "draw_roc(test_y, test_y_score[:, 1])\n",
    "\n",
    "print(\"*\" * 5 + \" 4.5 Score of SVC(gamma=0.001, C=100) \" + \"*\" * 5)\n",
    "m = score(svm.SVC(gamma=0.001, C=100, probability=True), train_x, train_y, test_x, test_y)\n",
    "train_y_score = m.predict_proba(train_x)\n",
    "draw_roc(train_y, train_y_score[:, 1])\n",
    "test_y_score = m.predict_proba(test_x)\n",
    "draw_roc(test_y, test_y_score[:, 1])"
   ]
  }
 ],
 "metadata": {
  "kernelspec": {
   "display_name": "Python 3",
   "language": "python",
   "name": "python3"
  },
  "language_info": {
   "codemirror_mode": {
    "name": "ipython",
    "version": 3
   },
   "file_extension": ".py",
   "mimetype": "text/x-python",
   "name": "python",
   "nbconvert_exporter": "python",
   "pygments_lexer": "ipython3",
   "version": "3.6.0"
  }
 },
 "nbformat": 4,
 "nbformat_minor": 2
}
