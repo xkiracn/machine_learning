{
 "cells": [
  {
   "cell_type": "markdown",
   "metadata": {},
   "source": [
    "### MLBook-1\n",
    "#### Ex 6\n",
    "10-Fold解决Kaggle数字识别问题，计算10次识别率（测试集/验证集），10个模型取值投票法决定最终结果，查看Kaggle分数。"
   ]
  },
  {
   "cell_type": "code",
   "execution_count": 1,
   "metadata": {
    "collapsed": true
   },
   "outputs": [],
   "source": [
    "from kfold import kfold\n",
    "import pandas as pd\n",
    "\n",
    "df_train = pd.read_csv(\"dr_train.csv\")\n",
    "df_test = pd.read_csv(\"dr_test.csv\")"
   ]
  },
  {
   "cell_type": "code",
   "execution_count": 2,
   "metadata": {},
   "outputs": [
    {
     "name": "stdout",
     "output_type": "stream",
     "text": [
      "Train&Predict: round 1\n",
      "Train&Predict: round 2\n",
      "Train&Predict: round 3\n",
      "Train&Predict: round 4\n",
      "Train&Predict: round 5\n",
      "Train&Predict: round 6\n",
      "Train&Predict: round 7\n",
      "Train&Predict: round 8\n",
      "Train&Predict: round 9\n",
      "Train&Predict: round 10\n"
     ]
    }
   ],
   "source": [
    "import numpy as np\n",
    "from sklearn import linear_model\n",
    "\n",
    "columns = df_test.values.shape[0]\n",
    "predicts = np.array([]).reshape(0, columns)\n",
    "index = 0\n",
    "for train, test in kfold(df_train.values, 10):\n",
    "    index += 1\n",
    "    print(\"Train&Predict: round %d\" % index)\n",
    "    tr_y = train[:, 0]\n",
    "    tr_x = train[:, 1:]\n",
    "    lr = linear_model.LogisticRegression()\n",
    "    lr.fit(tr_x, tr_y)\n",
    "    predicts = np.append(predicts, lr.predict(df_test.values).reshape(1, columns), axis=0)"
   ]
  },
  {
   "cell_type": "code",
   "execution_count": 3,
   "metadata": {
    "collapsed": true
   },
   "outputs": [],
   "source": [
    "import pandas\n",
    "\n",
    "def choose(pred):\n",
    "    \"\"\" Choose the most    \"\"\"\n",
    "    m = {}\n",
    "    for n in pred:\n",
    "        m[n] = m.get(n, 0) + 1\n",
    "    return sorted(m.keys(), key=lambda n:m[n])[-1]\n",
    "\n",
    "values = []\n",
    "for i in range(predicts.shape[1]):\n",
    "    pred_i = predicts[:,i]\n",
    "    values.append(int(choose(pred_i)))\n",
    "\n",
    "pred_y = np.array(values)\n",
    "df_pred = pandas.DataFrame({\"ImageId\": range(1, len(pred_y) + 1), \"Label\": pred_y}) \n",
    "df_pred.to_csv(\"dr_submission2.csv\", index=False)"
   ]
  },
  {
   "cell_type": "code",
   "execution_count": null,
   "metadata": {
    "collapsed": true
   },
   "outputs": [],
   "source": []
  }
 ],
 "metadata": {
  "kernelspec": {
   "display_name": "Python 3",
   "language": "python",
   "name": "python3"
  },
  "language_info": {
   "codemirror_mode": {
    "name": "ipython",
    "version": 3
   },
   "file_extension": ".py",
   "mimetype": "text/x-python",
   "name": "python",
   "nbconvert_exporter": "python",
   "pygments_lexer": "ipython3",
   "version": "3.6.0"
  }
 },
 "nbformat": 4,
 "nbformat_minor": 2
}
