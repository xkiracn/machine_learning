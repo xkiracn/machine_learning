{
 "cells": [
  {
   "cell_type": "markdown",
   "metadata": {},
   "source": [
    "以下面数据为例，计算AUC/ROC值，手写写出详细计算过程  \n",
    "* y = [0, 0, 1, 1]\n",
    "* scores = [0.1, 0.4, 0.35, 0.8]"
   ]
  },
  {
   "cell_type": "markdown",
   "metadata": {},
   "source": [
    "---\n",
    "由低到高设定用于判定真假的阈值（截断点）为[0.1, 0.35, 0.4, 0.8]，y_true按score由低到高排序后\n",
    "```\n",
    "y_true = [0, 1, 0, 1]\n",
    "```\n",
    "* threshold = 0.1\n",
    "对于score>=0.1的判定为真：  \n",
    "y_pred = [1, 1, 1, 1]  \n",
    "TP = 2, FN = 0  \n",
    "FP = 2, TN = 0  \n",
    "TPR = TP/(TP+FN) = 1, FPR = FP/(FP+TN) = 1\n",
    "\n",
    "* threshold = 0.35\n",
    "y_pred = [0, 1, 1, 1]  \n",
    "TP = 2, FN = 0  \n",
    "FP = 1, TN = 1  \n",
    "TPR = 1, FPR = 0.5\n",
    "\n",
    "* threshold = 0.4\n",
    "TP = 1, FN = 1  \n",
    "FP = 1, TN = 1  \n",
    "y_pred = [0, 0, 1, 1], TPR = 0.5, FPR = 0.5\n",
    "\n",
    "* threshold = 0.8\n",
    "TP = 1, FN = 1  \n",
    "FP = 0, TN = 2  \n",
    "y_pred = [0, 0, 0, 1], TPR = 0.5, FPR = 0\n",
    "\n",
    "最终可得：  \n",
    "FPR: [1, 0.5, 0.5, 0]  \n",
    "TPR: [1, 1, 0.5, 0.5]  \n",
    "Threshold: [0.1, 0.35, 0.4, 0.8]  \n",
    "\n",
    "AUC = 0.75"
   ]
  },
  {
   "cell_type": "code",
   "execution_count": 1,
   "metadata": {},
   "outputs": [
    {
     "data": {
      "image/png": "[encoded data removed]",
      "text/plain": [
       "<matplotlib.figure.Figure at 0x7f1981f743c8>"
      ]
     },
     "metadata": {},
     "output_type": "display_data"
    }
   ],
   "source": [
    "import matplotlib.pyplot as plt\n",
    "fpr = [1, 0.5, 0.5, 0]\n",
    "tpr = [1, 1, 0.5, 0.5]\n",
    "plt.plot(fpr, tpr)\n",
    "plt.ylim(ymin=0)\n",
    "plt.show()"
   ]
  },
  {
   "cell_type": "code",
   "execution_count": null,
   "metadata": {
    "collapsed": true
   },
   "outputs": [],
   "source": []
  }
 ],
 "metadata": {
  "kernelspec": {
   "display_name": "Python 3",
   "language": "python",
   "name": "python3"
  },
  "language_info": {
   "codemirror_mode": {
    "name": "ipython",
    "version": 3
   },
   "file_extension": ".py",
   "mimetype": "text/x-python",
   "name": "python",
   "nbconvert_exporter": "python",
   "pygments_lexer": "ipython3",
   "version": "3.6.0"
  }
 },
 "nbformat": 4,
 "nbformat_minor": 2
}
